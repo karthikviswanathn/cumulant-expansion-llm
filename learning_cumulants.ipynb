{
 "cells": [
  {
   "cell_type": "code",
   "execution_count": 1,
   "id": "8686c415-334f-43ff-a9b4-9c092ea84d52",
   "metadata": {},
   "outputs": [],
   "source": [
    "import numpy as np\n",
    "import torch\n",
    "from tuned_lens.nn.lenses import TunedLens, LogitLens\n",
    "from transformers import AutoModelForCausalLM, AutoTokenizer\n",
    "from datasets import load_dataset\n",
    "import matplotlib.pyplot as plt\n",
    "from tuned_lens.plotting import PredictionTrajectory\n",
    "from tqdm import tqdm\n",
    "\n",
    "from joblib import Parallel, delayed\n",
    "import os\n",
    "os.environ[\"TOKENIZERS_PARALLELISM\"] = \"false\"\n",
    "\n",
    "from dadapy import data\n",
    "from dadapy.data import Data\n",
    "import scipy\n",
    "\n",
    "from scipy import stats\n",
    "from sklearn.metrics.pairwise import cosine_similarity, euclidean_distances\n",
    "\n",
    "import matplotlib.colors as mcolors\n",
    "hex6 = ['#648FFF', '#785EF0', '#DC267F', '#FE6100', '#FFB000']\n",
    "colors6=[mcolors.to_rgb(i) for i in hex6]\n",
    "from scipy.spatial.distance import pdist, squareform\n",
    "import tempfile"
   ]
  },
  {
   "cell_type": "code",
   "execution_count": 3,
   "id": "226966e7-1773-4f64-991e-708362d97672",
   "metadata": {},
   "outputs": [],
   "source": [
    "ds = load_dataset(\"NeelNanda/pile-10k\")['train']\n",
    "filtered_indices = np.load('filtered_indices.npy')\n",
    "subset_indices = np.load('subset_indices.npy')\n"
   ]
  },
  {
   "cell_type": "code",
   "execution_count": 4,
   "id": "96f84617-a426-4bbd-8d0b-4126de0e64e8",
   "metadata": {},
   "outputs": [
    {
     "data": {
      "text/plain": [
       "{'pile_set_name': 'ArXiv'}"
      ]
     },
     "execution_count": 4,
     "metadata": {},
     "output_type": "execute_result"
    }
   ],
   "source": [
    "test_indx = 686;\n",
    "device = torch.device('cuda');\n",
    "max_length = 256\n",
    "ds['meta'][filtered_indices[test_indx]]"
   ]
  },
  {
   "cell_type": "code",
   "execution_count": 5,
   "id": "b82313d1-a0f7-4ea9-80fd-0d126f00c8c2",
   "metadata": {},
   "outputs": [
    {
     "data": {
      "application/vnd.jupyter.widget-view+json": {
       "model_id": "06069c2298134ed694ddc271016e8ae0",
       "version_major": 2,
       "version_minor": 0
      },
      "text/plain": [
       "config.json:   0%|          | 0.00/569 [00:00<?, ?B/s]"
      ]
     },
     "metadata": {},
     "output_type": "display_data"
    },
    {
     "data": {
      "application/vnd.jupyter.widget-view+json": {
       "model_id": "2938a44181a345dd97a3fee3306cd1bc",
       "version_major": 2,
       "version_minor": 0
      },
      "text/plain": [
       "pytorch_model.bin:   0%|          | 0.00/375M [00:00<?, ?B/s]"
      ]
     },
     "metadata": {},
     "output_type": "display_data"
    },
    {
     "data": {
      "application/vnd.jupyter.widget-view+json": {
       "model_id": "5aaeb42f892f42c583898948b289de82",
       "version_major": 2,
       "version_minor": 0
      },
      "text/plain": [
       "tokenizer_config.json:   0%|          | 0.00/396 [00:00<?, ?B/s]"
      ]
     },
     "metadata": {},
     "output_type": "display_data"
    },
    {
     "data": {
      "application/vnd.jupyter.widget-view+json": {
       "model_id": "5ec364811ea7450cbd50267e40fe58ee",
       "version_major": 2,
       "version_minor": 0
      },
      "text/plain": [
       "tokenizer.json:   0%|          | 0.00/2.11M [00:00<?, ?B/s]"
      ]
     },
     "metadata": {},
     "output_type": "display_data"
    },
    {
     "data": {
      "application/vnd.jupyter.widget-view+json": {
       "model_id": "eec95b180db84394b1d1809d5ae0b0e8",
       "version_major": 2,
       "version_minor": 0
      },
      "text/plain": [
       "special_tokens_map.json:   0%|          | 0.00/99.0 [00:00<?, ?B/s]"
      ]
     },
     "metadata": {},
     "output_type": "display_data"
    },
    {
     "name": "stderr",
     "output_type": "stream",
     "text": [
      "/usr/local/lib/python3.10/dist-packages/transformers/tokenization_utils_base.py:1601: FutureWarning: `clean_up_tokenization_spaces` was not set. It will be set to `True` by default. This behavior will be depracted in transformers v4.45, and will be then set to `False` by default. For more details check this issue: https://github.com/huggingface/transformers/issues/31884\n",
      "  warnings.warn(\n"
     ]
    },
    {
     "data": {
      "application/vnd.jupyter.widget-view+json": {
       "model_id": "616f0be2547a4b5382147e9949a29cf0",
       "version_major": 2,
       "version_minor": 0
      },
      "text/plain": [
       "config.json:   0%|          | 0.00/569 [00:00<?, ?B/s]"
      ]
     },
     "metadata": {},
     "output_type": "display_data"
    },
    {
     "data": {
      "application/vnd.jupyter.widget-view+json": {
       "model_id": "a2e4c83412ae451d94b7e9076f5e921b",
       "version_major": 2,
       "version_minor": 0
      },
      "text/plain": [
       "pytorch_model.bin:   0%|          | 0.00/375M [00:00<?, ?B/s]"
      ]
     },
     "metadata": {},
     "output_type": "display_data"
    },
    {
     "data": {
      "application/vnd.jupyter.widget-view+json": {
       "model_id": "3cbb43a1aab748c7bb263e80148df643",
       "version_major": 2,
       "version_minor": 0
      },
      "text/plain": [
       "tokenizer_config.json:   0%|          | 0.00/396 [00:00<?, ?B/s]"
      ]
     },
     "metadata": {},
     "output_type": "display_data"
    },
    {
     "data": {
      "application/vnd.jupyter.widget-view+json": {
       "model_id": "94e200726efb461794b4279e4c903c15",
       "version_major": 2,
       "version_minor": 0
      },
      "text/plain": [
       "tokenizer.json:   0%|          | 0.00/2.11M [00:00<?, ?B/s]"
      ]
     },
     "metadata": {},
     "output_type": "display_data"
    },
    {
     "data": {
      "application/vnd.jupyter.widget-view+json": {
       "model_id": "55b9c2bf4273457fa0b8f1b3f5b5b2f7",
       "version_major": 2,
       "version_minor": 0
      },
      "text/plain": [
       "special_tokens_map.json:   0%|          | 0.00/99.0 [00:00<?, ?B/s]"
      ]
     },
     "metadata": {},
     "output_type": "display_data"
    },
    {
     "name": "stderr",
     "output_type": "stream",
     "text": [
      "/usr/local/lib/python3.10/dist-packages/transformers/tokenization_utils_base.py:1601: FutureWarning: `clean_up_tokenization_spaces` was not set. It will be set to `True` by default. This behavior will be depracted in transformers v4.45, and will be then set to `False` by default. For more details check this issue: https://github.com/huggingface/transformers/issues/31884\n",
      "  warnings.warn(\n"
     ]
    },
    {
     "data": {
      "application/vnd.jupyter.widget-view+json": {
       "model_id": "1e9f48c2661641a992184f6775e01314",
       "version_major": 2,
       "version_minor": 0
      },
      "text/plain": [
       "config.json:   0%|          | 0.00/569 [00:00<?, ?B/s]"
      ]
     },
     "metadata": {},
     "output_type": "display_data"
    },
    {
     "data": {
      "application/vnd.jupyter.widget-view+json": {
       "model_id": "fb42822946c440008888fb3dd67a8250",
       "version_major": 2,
       "version_minor": 0
      },
      "text/plain": [
       "pytorch_model.bin:   0%|          | 0.00/375M [00:00<?, ?B/s]"
      ]
     },
     "metadata": {},
     "output_type": "display_data"
    },
    {
     "data": {
      "application/vnd.jupyter.widget-view+json": {
       "model_id": "a6acbcfe6d3849c3828dac663463aaff",
       "version_major": 2,
       "version_minor": 0
      },
      "text/plain": [
       "tokenizer_config.json:   0%|          | 0.00/396 [00:00<?, ?B/s]"
      ]
     },
     "metadata": {},
     "output_type": "display_data"
    },
    {
     "data": {
      "application/vnd.jupyter.widget-view+json": {
       "model_id": "244b1254c5f64f66a13898501467a4bd",
       "version_major": 2,
       "version_minor": 0
      },
      "text/plain": [
       "tokenizer.json:   0%|          | 0.00/2.11M [00:00<?, ?B/s]"
      ]
     },
     "metadata": {},
     "output_type": "display_data"
    },
    {
     "data": {
      "application/vnd.jupyter.widget-view+json": {
       "model_id": "c09c36665ee044cc92a3c002b66d6eaf",
       "version_major": 2,
       "version_minor": 0
      },
      "text/plain": [
       "special_tokens_map.json:   0%|          | 0.00/99.0 [00:00<?, ?B/s]"
      ]
     },
     "metadata": {},
     "output_type": "display_data"
    },
    {
     "data": {
      "application/vnd.jupyter.widget-view+json": {
       "model_id": "9bb84a33d7c5446bad4d1160b9a8f86d",
       "version_major": 2,
       "version_minor": 0
      },
      "text/plain": [
       "config.json:   0%|          | 0.00/569 [00:00<?, ?B/s]"
      ]
     },
     "metadata": {},
     "output_type": "display_data"
    },
    {
     "data": {
      "application/vnd.jupyter.widget-view+json": {
       "model_id": "3ac4fa4a296c47fc80662ac715299b4b",
       "version_major": 2,
       "version_minor": 0
      },
      "text/plain": [
       "pytorch_model.bin:   0%|          | 0.00/375M [00:00<?, ?B/s]"
      ]
     },
     "metadata": {},
     "output_type": "display_data"
    },
    {
     "data": {
      "application/vnd.jupyter.widget-view+json": {
       "model_id": "7a8e8c82d3a449e3872d928a1551c7a6",
       "version_major": 2,
       "version_minor": 0
      },
      "text/plain": [
       "tokenizer_config.json:   0%|          | 0.00/396 [00:00<?, ?B/s]"
      ]
     },
     "metadata": {},
     "output_type": "display_data"
    },
    {
     "data": {
      "application/vnd.jupyter.widget-view+json": {
       "model_id": "134cc11783de404bba02898a135835b7",
       "version_major": 2,
       "version_minor": 0
      },
      "text/plain": [
       "tokenizer.json:   0%|          | 0.00/2.11M [00:00<?, ?B/s]"
      ]
     },
     "metadata": {},
     "output_type": "display_data"
    },
    {
     "data": {
      "application/vnd.jupyter.widget-view+json": {
       "model_id": "a6aa09b00b5b44f7ac8414a370a98089",
       "version_major": 2,
       "version_minor": 0
      },
      "text/plain": [
       "special_tokens_map.json:   0%|          | 0.00/99.0 [00:00<?, ?B/s]"
      ]
     },
     "metadata": {},
     "output_type": "display_data"
    },
    {
     "data": {
      "application/vnd.jupyter.widget-view+json": {
       "model_id": "160972a5ddb741359c29a91e0f5f7c8a",
       "version_major": 2,
       "version_minor": 0
      },
      "text/plain": [
       "config.json:   0%|          | 0.00/569 [00:00<?, ?B/s]"
      ]
     },
     "metadata": {},
     "output_type": "display_data"
    },
    {
     "data": {
      "application/vnd.jupyter.widget-view+json": {
       "model_id": "3b59ac6fef204f38aad13e4c85a6cb0f",
       "version_major": 2,
       "version_minor": 0
      },
      "text/plain": [
       "pytorch_model.bin:   0%|          | 0.00/375M [00:00<?, ?B/s]"
      ]
     },
     "metadata": {},
     "output_type": "display_data"
    },
    {
     "data": {
      "application/vnd.jupyter.widget-view+json": {
       "model_id": "ef8bf665263840d2ac28deabe76c42c5",
       "version_major": 2,
       "version_minor": 0
      },
      "text/plain": [
       "tokenizer_config.json:   0%|          | 0.00/396 [00:00<?, ?B/s]"
      ]
     },
     "metadata": {},
     "output_type": "display_data"
    },
    {
     "data": {
      "application/vnd.jupyter.widget-view+json": {
       "model_id": "81fb7e31582a4b93aa077117fc102211",
       "version_major": 2,
       "version_minor": 0
      },
      "text/plain": [
       "tokenizer.json:   0%|          | 0.00/2.11M [00:00<?, ?B/s]"
      ]
     },
     "metadata": {},
     "output_type": "display_data"
    },
    {
     "data": {
      "application/vnd.jupyter.widget-view+json": {
       "model_id": "35dad0d34d6f4e278282db252879a94c",
       "version_major": 2,
       "version_minor": 0
      },
      "text/plain": [
       "special_tokens_map.json:   0%|          | 0.00/99.0 [00:00<?, ?B/s]"
      ]
     },
     "metadata": {},
     "output_type": "display_data"
    },
    {
     "data": {
      "application/vnd.jupyter.widget-view+json": {
       "model_id": "9a7d734a97bb4a16bf32f02f0e143001",
       "version_major": 2,
       "version_minor": 0
      },
      "text/plain": [
       "config.json:   0%|          | 0.00/569 [00:00<?, ?B/s]"
      ]
     },
     "metadata": {},
     "output_type": "display_data"
    },
    {
     "data": {
      "application/vnd.jupyter.widget-view+json": {
       "model_id": "b09cbce342fb48eda2329c19cf507d40",
       "version_major": 2,
       "version_minor": 0
      },
      "text/plain": [
       "pytorch_model.bin:   0%|          | 0.00/375M [00:00<?, ?B/s]"
      ]
     },
     "metadata": {},
     "output_type": "display_data"
    },
    {
     "data": {
      "application/vnd.jupyter.widget-view+json": {
       "model_id": "3a6999e260f0430089aa514a75f8eca3",
       "version_major": 2,
       "version_minor": 0
      },
      "text/plain": [
       "tokenizer_config.json:   0%|          | 0.00/396 [00:00<?, ?B/s]"
      ]
     },
     "metadata": {},
     "output_type": "display_data"
    },
    {
     "data": {
      "application/vnd.jupyter.widget-view+json": {
       "model_id": "c081554ea81a4833b6ac1e0ad9becaee",
       "version_major": 2,
       "version_minor": 0
      },
      "text/plain": [
       "tokenizer.json:   0%|          | 0.00/2.11M [00:00<?, ?B/s]"
      ]
     },
     "metadata": {},
     "output_type": "display_data"
    },
    {
     "data": {
      "application/vnd.jupyter.widget-view+json": {
       "model_id": "f80f8d5ca8a14b22be1f1231be2c3250",
       "version_major": 2,
       "version_minor": 0
      },
      "text/plain": [
       "special_tokens_map.json:   0%|          | 0.00/99.0 [00:00<?, ?B/s]"
      ]
     },
     "metadata": {},
     "output_type": "display_data"
    },
    {
     "data": {
      "application/vnd.jupyter.widget-view+json": {
       "model_id": "c00b8c931a08438980e510b242c4fb3c",
       "version_major": 2,
       "version_minor": 0
      },
      "text/plain": [
       "config.json:   0%|          | 0.00/569 [00:00<?, ?B/s]"
      ]
     },
     "metadata": {},
     "output_type": "display_data"
    },
    {
     "data": {
      "application/vnd.jupyter.widget-view+json": {
       "model_id": "cf83e91d799c4c64a22df7d8ace30c81",
       "version_major": 2,
       "version_minor": 0
      },
      "text/plain": [
       "pytorch_model.bin:   0%|          | 0.00/375M [00:00<?, ?B/s]"
      ]
     },
     "metadata": {},
     "output_type": "display_data"
    },
    {
     "data": {
      "application/vnd.jupyter.widget-view+json": {
       "model_id": "ed3396e14d364ec98ff6f19cd2c7f67f",
       "version_major": 2,
       "version_minor": 0
      },
      "text/plain": [
       "tokenizer_config.json:   0%|          | 0.00/396 [00:00<?, ?B/s]"
      ]
     },
     "metadata": {},
     "output_type": "display_data"
    },
    {
     "data": {
      "application/vnd.jupyter.widget-view+json": {
       "model_id": "0c4be93548d1431ea55ded87e9c9e2be",
       "version_major": 2,
       "version_minor": 0
      },
      "text/plain": [
       "tokenizer.json:   0%|          | 0.00/2.11M [00:00<?, ?B/s]"
      ]
     },
     "metadata": {},
     "output_type": "display_data"
    },
    {
     "data": {
      "application/vnd.jupyter.widget-view+json": {
       "model_id": "1586684a59d3472cab6860144ed3d7bb",
       "version_major": 2,
       "version_minor": 0
      },
      "text/plain": [
       "special_tokens_map.json:   0%|          | 0.00/99.0 [00:00<?, ?B/s]"
      ]
     },
     "metadata": {},
     "output_type": "display_data"
    },
    {
     "data": {
      "application/vnd.jupyter.widget-view+json": {
       "model_id": "c8227ae7a0ef4e3499e7cf7aa153047c",
       "version_major": 2,
       "version_minor": 0
      },
      "text/plain": [
       "config.json:   0%|          | 0.00/569 [00:00<?, ?B/s]"
      ]
     },
     "metadata": {},
     "output_type": "display_data"
    },
    {
     "data": {
      "application/vnd.jupyter.widget-view+json": {
       "model_id": "a6ddd29029da4d42a3bd63bad181f98f",
       "version_major": 2,
       "version_minor": 0
      },
      "text/plain": [
       "pytorch_model.bin:   0%|          | 0.00/375M [00:00<?, ?B/s]"
      ]
     },
     "metadata": {},
     "output_type": "display_data"
    },
    {
     "data": {
      "application/vnd.jupyter.widget-view+json": {
       "model_id": "6a9bda2e381f47e8875001b27694c73f",
       "version_major": 2,
       "version_minor": 0
      },
      "text/plain": [
       "tokenizer_config.json:   0%|          | 0.00/396 [00:00<?, ?B/s]"
      ]
     },
     "metadata": {},
     "output_type": "display_data"
    },
    {
     "data": {
      "application/vnd.jupyter.widget-view+json": {
       "model_id": "d65db1d438a34eb48f40b5b7856250d8",
       "version_major": 2,
       "version_minor": 0
      },
      "text/plain": [
       "tokenizer.json:   0%|          | 0.00/2.11M [00:00<?, ?B/s]"
      ]
     },
     "metadata": {},
     "output_type": "display_data"
    },
    {
     "data": {
      "application/vnd.jupyter.widget-view+json": {
       "model_id": "e5358885c4ef4c4c827aa1165d0d001c",
       "version_major": 2,
       "version_minor": 0
      },
      "text/plain": [
       "special_tokens_map.json:   0%|          | 0.00/99.0 [00:00<?, ?B/s]"
      ]
     },
     "metadata": {},
     "output_type": "display_data"
    },
    {
     "data": {
      "application/vnd.jupyter.widget-view+json": {
       "model_id": "e0c679bfe48248fb844c38f24daea9f9",
       "version_major": 2,
       "version_minor": 0
      },
      "text/plain": [
       "config.json:   0%|          | 0.00/569 [00:00<?, ?B/s]"
      ]
     },
     "metadata": {},
     "output_type": "display_data"
    },
    {
     "data": {
      "application/vnd.jupyter.widget-view+json": {
       "model_id": "00f5ecf640b74415bad149effd1d7741",
       "version_major": 2,
       "version_minor": 0
      },
      "text/plain": [
       "pytorch_model.bin:   0%|          | 0.00/375M [00:00<?, ?B/s]"
      ]
     },
     "metadata": {},
     "output_type": "display_data"
    },
    {
     "data": {
      "application/vnd.jupyter.widget-view+json": {
       "model_id": "ff463b8742ba4b6e9223402ceef5f44f",
       "version_major": 2,
       "version_minor": 0
      },
      "text/plain": [
       "tokenizer_config.json:   0%|          | 0.00/396 [00:00<?, ?B/s]"
      ]
     },
     "metadata": {},
     "output_type": "display_data"
    },
    {
     "data": {
      "application/vnd.jupyter.widget-view+json": {
       "model_id": "e4c215be991541cf954f6296ad7ef4ed",
       "version_major": 2,
       "version_minor": 0
      },
      "text/plain": [
       "tokenizer.json:   0%|          | 0.00/2.11M [00:00<?, ?B/s]"
      ]
     },
     "metadata": {},
     "output_type": "display_data"
    },
    {
     "data": {
      "application/vnd.jupyter.widget-view+json": {
       "model_id": "6da4e2f8bbd84e54a45393037f7974b3",
       "version_major": 2,
       "version_minor": 0
      },
      "text/plain": [
       "special_tokens_map.json:   0%|          | 0.00/99.0 [00:00<?, ?B/s]"
      ]
     },
     "metadata": {},
     "output_type": "display_data"
    }
   ],
   "source": [
    "test_indx = 686;\n",
    "device = torch.device('cuda');\n",
    "max_length = 256\n",
    "test_sequence = ds['text'][filtered_indices[test_indx]]\n",
    "steps = [\"step4\", \"step16\", \"step64\", \"step256\", \"step1000\", \"step4000\", \"step16000\", \"step64000\",  \"step143000\"]\n",
    "models = {}\n",
    "all_logits, all_probs = [], []\n",
    "for step in steps:\n",
    "    with tempfile.TemporaryDirectory() as temp_dir:\n",
    "        model_name = \"EleutherAI/pythia-160m-deduped\"\n",
    "        revision = step\n",
    "        if step == \"final\":\n",
    "            model = AutoModelForCausalLM.from_pretrained(model_name, device_map=\"auto\", local_files_only=False, cache_dir=temp_dir)  \n",
    "            tokenizer = AutoTokenizer.from_pretrained(model_name, cache_dir=temp_dir, local_files_only=False)  # Assuming same tokenizer for all\n",
    "        else:\n",
    "            model = AutoModelForCausalLM.from_pretrained(model_name, device_map=\"auto\", revision = revision, local_files_only=False, cache_dir=temp_dir)  \n",
    "            tokenizer = AutoTokenizer.from_pretrained(model_name, revision = revision, cache_dir=temp_dir, local_files_only=False)  # Assuming same tokenizer for all\n",
    "        \n",
    "        input_ids = tokenizer.encode(test_sequence.strip(), add_special_tokens = False, \\\n",
    "                         return_tensors = \"pt\", max_length = max_length, truncation = True).to(device)\n",
    "        outputs = model(input_ids, output_hidden_states=True)\n",
    "        logits = outputs.logits.squeeze()\n",
    "        probs = torch.nn.functional.softmax(logits, dim = -1)\n",
    "        all_logits.append(logits)\n",
    "        all_probs.append(probs)\n",
    "        # ids, losses = extract_ids_and_losses(sequences, model, tokenizer, max_length = 1024)\n",
    "        # all_ids.append(ids)\n",
    "        # all_losses.append(losses)\n",
    "        # np.save(f'pythia_checkpoints/ids/{step}.npy', ids)\n",
    "        # np.save(f'pythia_checkpoints/losses/{step}.npy', losses)"
   ]
  },
  {
   "cell_type": "code",
   "execution_count": 6,
   "id": "69058d82-d4d0-4e88-8e12-d968f8093201",
   "metadata": {},
   "outputs": [],
   "source": [
    "def calculate_moments(all_logits, all_probs):\n",
    "    all_probs_com = []\n",
    "    all_logits_com = []\n",
    "    n_layers = len(all_logits)\n",
    "    all_entropies = []\n",
    "    with torch.no_grad():\n",
    "        for idx in range(n_layers):\n",
    "            logits, probs = all_logits[idx], all_probs[idx] + 1e-12\n",
    "            probs_com = torch.mean(probs, axis = -2).squeeze()\n",
    "            all_probs_com.append(probs_com)\n",
    "            logits_com = torch.log(probs_com)\n",
    "            logits_com_mean = torch.sum(probs_com * logits_com)\n",
    "            all_logits_com.append(logits_com - logits_com_mean)\n",
    "            all_entropies.append(-(probs*torch.log(probs)).sum(axis = -1).cpu().detach().numpy())\n",
    "        \n",
    "        all_probs_com = torch.stack(all_probs_com, axis = 0)\n",
    "        all_logits_com = torch.stack(all_logits_com, axis = 0)\n",
    "    all_cumulants = []\n",
    "    with torch.no_grad():\n",
    "        for idx in range(n_layers):\n",
    "            delta_logits = all_logits_com[idx] - all_logits[idx]\n",
    "            centered_delta_logits = delta_logits - (all_probs[idx] * delta_logits).sum(axis = -1, keepdims = True)\n",
    "            m1 = (all_probs[idx] * (centered_delta_logits)).sum(axis = -1)\n",
    "            m2 = (all_probs[idx] * (centered_delta_logits**2)).sum(axis = -1)\n",
    "            m3 = (all_probs[idx] * (centered_delta_logits**3)).sum(axis = -1)\n",
    "            m4 = (all_probs[idx] * (centered_delta_logits**4)).sum(axis = -1)\n",
    "            m5 = (all_probs[idx] * (centered_delta_logits**5)).sum(axis = -1)\n",
    "            m6 = (all_probs[idx] * (centered_delta_logits**6)).sum(axis = -1)\n",
    "            m7 = (all_probs[idx] * (centered_delta_logits**7)).sum(axis = -1)\n",
    "            m8 = (all_probs[idx] * (centered_delta_logits**8)).sum(axis = -1)\n",
    "            \n",
    "            # print(variance.shape)\n",
    "            k2 = torch.mean(m2)\n",
    "            k3 = torch.mean(m3)\n",
    "            k4 = torch.mean(m4 - 3*m2**2)\n",
    "            k5 = torch.mean(m5 - 10*m2*m3)\n",
    "            k6 = torch.mean(m6 - 15*m2*m4 - 10 * m3 **2 + 30 * m2**3)\n",
    "            k7 = torch.mean(m7 - 21 * m2 * m5 - 35 * m3 * m4 + 210* (m2**2) * m3)\n",
    "            k8 = torch.mean(m8 - 28 * m2 * m6 - 56 * m3 * m5 + 420 * m2**2 * m4 - 35 * m4 * m4 + 560 * m2 * m3 * m3 - 630 * m2**4)\n",
    "    #         cumulant5 = (moments[5] - 10 * moments[3]*moments[2]).mean()\n",
    "            \n",
    "            all_cumulants.append(torch.stack([k2, k3, k4, k5, k6, k7, k8]))\n",
    "    return all_cumulants, all_probs_com"
   ]
  },
  {
   "cell_type": "code",
   "execution_count": 18,
   "id": "71a533fa-a45e-439c-96b8-ca448ea8d184",
   "metadata": {},
   "outputs": [
    {
     "data": {
      "image/png": "[encoded data removed]",
      "text/plain": [
       "<Figure size 1000x400 with 2 Axes>"
      ]
     },
     "metadata": {},
     "output_type": "display_data"
    }
   ],
   "source": [
    "all_cumulants, all_probs_com = calculate_moments(all_logits, all_probs)\n",
    "entropy = -torch.sum(all_probs_com * torch.log(all_probs_com + 1e-12), axis = -1).cpu().detach().numpy()\n",
    "all_cumulants_np = torch.stack(all_cumulants).cpu().detach().numpy()/np.array([2, 6, 24, 120, 720, 5040, 40320])\n",
    "fig, axes = plt.subplots(1, 2, figsize = (10, 4))\n",
    "ax = axes[0]\n",
    "for idx in range(7):\n",
    "    # print(len(all_cumulants_np.T[idx]), all_cumulants_np.T[idx])\n",
    "    ax.plot(all_cumulants_np.T[idx], marker = '.', label =f'$\\kappa_{{{idx + 2}}}$')\n",
    "# plt.plot(np.array(all_entropies).mean(axis = -1), marker = '.', c = 'black', linestyle = '-')\n",
    "#plt.axvline(16, c = 'red', linestyle = 'dotted')\n",
    "#plt.title(topic)\n",
    "ax.grid(True)\n",
    "ax.legend()\n",
    "ax.set_xlabel('Epochs')\n",
    "\n",
    "ax.set_xticks([idx for idx in range(9)], [int(step[4:]) for step in steps])\n",
    "all_entropies= []\n",
    "for idx in range(len(all_logits)):\n",
    "    # print(\"Hi\")\n",
    "    logits, probs = all_logits[idx], all_probs[idx].cpu().detach().numpy()\n",
    "    all_entropies.append(-(probs*np.log(probs + 1e-12)).sum(axis = -1).mean())\n",
    "ax = axes[1]\n",
    "ax.plot(entropy, c = 'blue', linestyle = 'dotted',label = \"$S(\\mu)$\")\n",
    "ax.plot(all_entropies, marker = '.', c = 'blue', label = \"$\\langle S \\\\rangle$\")\n",
    "ax.grid(True)\n",
    "ax.set_xlabel('Epochs')\n",
    "\n",
    "ax.set_xticks([idx for idx in range(9)], [int(step[4:]) for step in steps])\n",
    "ax.legend()\n",
    "handles_psim, labels_psim = axes[0].get_legend_handles_labels()\n",
    "#fig.legend(handles_psim, labels_psim, loc='upper center', bbox_to_anchor=(0.5, -0.0), ncol = 4,  fontsize = \"x-large\")\n",
    "plt.tight_layout()\n",
    "\n",
    "plt.show()"
   ]
  },
  {
   "cell_type": "markdown",
   "id": "7763523e-91c2-4557-899e-f458a59ba430",
   "metadata": {},
   "source": [
    "## Tuned lens"
   ]
  },
  {
   "cell_type": "code",
   "execution_count": 31,
   "id": "798d5b11-041f-46db-a7b5-c3b5a899cd79",
   "metadata": {},
   "outputs": [
    {
     "data": {
      "text/plain": [
       "device(type='cuda')"
      ]
     },
     "execution_count": 31,
     "metadata": {},
     "output_type": "execute_result"
    }
   ],
   "source": [
    "device"
   ]
  },
  {
   "cell_type": "code",
   "execution_count": 71,
   "id": "f8578632-c207-4f73-b126-f8da31944d56",
   "metadata": {},
   "outputs": [
    {
     "data": {
      "application/vnd.jupyter.widget-view+json": {
       "model_id": "7cf0021798684a3b8d16112e23a8806a",
       "version_major": 2,
       "version_minor": 0
      },
      "text/plain": [
       "config.json:   0%|          | 0.00/569 [00:00<?, ?B/s]"
      ]
     },
     "metadata": {},
     "output_type": "display_data"
    },
    {
     "data": {
      "application/vnd.jupyter.widget-view+json": {
       "model_id": "3932e3a08b36492db79f06373bc23524",
       "version_major": 2,
       "version_minor": 0
      },
      "text/plain": [
       "model.safetensors:   0%|          | 0.00/375M [00:00<?, ?B/s]"
      ]
     },
     "metadata": {},
     "output_type": "display_data"
    },
    {
     "data": {
      "application/vnd.jupyter.widget-view+json": {
       "model_id": "4a04d1f077bf43a1acf83c3c215f8664",
       "version_major": 2,
       "version_minor": 0
      },
      "text/plain": [
       "tokenizer_config.json:   0%|          | 0.00/396 [00:00<?, ?B/s]"
      ]
     },
     "metadata": {},
     "output_type": "display_data"
    },
    {
     "data": {
      "application/vnd.jupyter.widget-view+json": {
       "model_id": "6ffa48aa668e42dcb5c5bda9704598f6",
       "version_major": 2,
       "version_minor": 0
      },
      "text/plain": [
       "tokenizer.json:   0%|          | 0.00/2.11M [00:00<?, ?B/s]"
      ]
     },
     "metadata": {},
     "output_type": "display_data"
    },
    {
     "data": {
      "application/vnd.jupyter.widget-view+json": {
       "model_id": "ceadfa2267b94ee889102a87617de0f5",
       "version_major": 2,
       "version_minor": 0
      },
      "text/plain": [
       "special_tokens_map.json:   0%|          | 0.00/99.0 [00:00<?, ?B/s]"
      ]
     },
     "metadata": {},
     "output_type": "display_data"
    },
    {
     "data": {
      "application/vnd.jupyter.widget-view+json": {
       "model_id": "1e24aafbe47e4038ba72f727837d11f0",
       "version_major": 2,
       "version_minor": 0
      },
      "text/plain": [
       "params.pt:   0%|          | 0.00/28.4M [00:00<?, ?B/s]"
      ]
     },
     "metadata": {},
     "output_type": "display_data"
    },
    {
     "data": {
      "application/vnd.jupyter.widget-view+json": {
       "model_id": "f2fdfd5f890e4141b54c44604eeb6ec1",
       "version_major": 2,
       "version_minor": 0
      },
      "text/plain": [
       "(…)eutherAI/pythia-160m-deduped/config.json:   0%|          | 0.00/179 [00:00<?, ?B/s]"
      ]
     },
     "metadata": {},
     "output_type": "display_data"
    }
   ],
   "source": [
    "model = AutoModelForCausalLM.from_pretrained('EleutherAI/pythia-160m-deduped').to(device)\n",
    "tokenizer = AutoTokenizer.from_pretrained('EleutherAI/pythia-160m-deduped')\n",
    "tuned_lens = TunedLens.from_model_and_pretrained(model)\n",
    "tuned_lens = tuned_lens.to(device)\n",
    "def shuffle_tokens(ids, shuffle_index):\n",
    "    N, K = ids.shape[-1], 4**shuffle_index\n",
    "    block_size = N//K\n",
    "    permutation = np.random.permutation(K)\n",
    "    new_ids = ids.reshape((1, K, block_size))\n",
    "    new_ids = new_ids[0, permutation, :]\n",
    "    new_ids = new_ids.reshape(1, N)\n",
    "    return new_ids\n",
    "    \n",
    "def get_logits(test_sequence, max_length = 256, lens = tuned_lens, shuffle_indx = 0):\n",
    "    input_ids = tokenizer.encode(test_sequence.strip(), add_special_tokens = False, \\\n",
    "                         return_tensors = \"pt\", max_length = max_length, truncation = True)\n",
    "    # if shuffled:\n",
    "    input_ids = shuffle_tokens(input_ids, shuffle_indx).to(device)\n",
    "    all_logits = []\n",
    "    all_probs = []\n",
    "    with torch.no_grad():\n",
    "        # input_ids_th = torch.tensor(input_ids.clone().detach(), dtype=torch.int64, device=model.device)\n",
    "        input_ids_th = input_ids.clone().detach().to(device)\n",
    "        outputs = model(input_ids_th, output_hidden_states=True)\n",
    "        stream = list(outputs.hidden_states)\n",
    "        # Create the stream of log probabilities from the lens\n",
    "        for i, h in enumerate(stream[:-1]):\n",
    "            # print(h.device)\n",
    "            logits = lens.forward(h, i).squeeze()\n",
    "            probs = torch.nn.functional.softmax(logits, dim = -1)\n",
    "            all_logits.append(logits)\n",
    "            all_probs.append(probs)\n",
    "        all_logits.append(outputs.logits.squeeze())\n",
    "        all_probs.append(torch.nn.functional.softmax(outputs.logits.squeeze(), dim = -1))\n",
    "        return all_logits, all_probs"
   ]
  },
  {
   "cell_type": "code",
   "execution_count": 72,
   "id": "10837b9d-b401-4022-8d38-371aa77e0ee9",
   "metadata": {},
   "outputs": [
    {
     "data": {
      "text/plain": [
       "<matplotlib.legend.Legend at 0x14903f132c20>"
      ]
     },
     "execution_count": 72,
     "metadata": {},
     "output_type": "execute_result"
    },
    {
     "data": {
      "image/png": "[encoded data removed]",
      "text/plain": [
       "<Figure size 640x480 with 1 Axes>"
      ]
     },
     "metadata": {},
     "output_type": "display_data"
    }
   ],
   "source": [
    "all_tuned_logits, all_tuned_probs = get_logits(test_sequence, max_length = max_length, shuffle_indx = 0)\n",
    "all_cumulants, all_probs_com = calculate_moments(all_tuned_logits, all_tuned_probs)\n",
    "entropy = -torch.sum(all_probs_com * torch.log(all_probs_com + 1e-12), axis = -1).cpu().detach().numpy()\n",
    "all_cumulants_np = torch.stack(all_cumulants).cpu().detach().numpy()/np.array([2, 6, 24, 120, 720, 5040, 40320])\n",
    "for idx in range(7):\n",
    "    plt.plot(all_cumulants_np.T[idx], marker = '.', label = idx + 2)\n",
    "# plt.plot(np.array(all_entropies).mean(axis = -1), marker = '.', c = 'black', linestyle = '-')\n",
    "# ax.axvline(16, c = 'red', linestyle = 'dotted')\n",
    "# ax.set_title(f\"{prompt_indx}, {topic}\")\n",
    "# shuffled = \"Shuffled\" if shuffle_indx > 0 else \"Structured\"\n",
    "#ax.set_title(shuffled)\n",
    "plt.grid(True)\n",
    "plt.legend()"
   ]
  },
  {
   "cell_type": "code",
   "execution_count": null,
   "id": "3de0bc4a-5349-4583-a3eb-78c676499a45",
   "metadata": {},
   "outputs": [],
   "source": []
  }
 ],
 "metadata": {
  "kernelspec": {
   "display_name": "Python 3 (ipykernel)",
   "language": "python",
   "name": "python3"
  },
  "language_info": {
   "codemirror_mode": {
    "name": "ipython",
    "version": 3
   },
   "file_extension": ".py",
   "mimetype": "text/x-python",
   "name": "python",
   "nbconvert_exporter": "python",
   "pygments_lexer": "ipython3",
   "version": "3.10.12"
  }
 },
 "nbformat": 4,
 "nbformat_minor": 5
}
